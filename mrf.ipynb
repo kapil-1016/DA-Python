{
 "cells": [
  {
   "cell_type": "markdown",
   "id": "96524035",
   "metadata": {},
   "source": [
    "To explain map, reduce and filter i have used list examples..."
   ]
  },
  {
   "cell_type": "markdown",
   "id": "52ec373a",
   "metadata": {},
   "source": [
    "MAP, REDUCE & FILTER"
   ]
  },
  {
   "cell_type": "code",
   "execution_count": null,
   "id": "8122a0b3",
   "metadata": {},
   "outputs": [
    {
     "name": "stdout",
     "output_type": "stream",
     "text": [
      "['KRISHNA', 'SUSHANT', 'NAKUL', 'MANISH']\n",
      "['KRISHNA', 'SUSHANT', 'NAKUL', 'MANISH']\n"
     ]
    }
   ],
   "source": [
    "# MAP, A function which take two things\n",
    "#1. a function(what to do)\n",
    "#2. an iterable(where to do)\n",
    "# Returns new list.\n",
    "\n",
    "names = [\"krishna\", \"sushant\", \"nakul\", \"manish\"]\n",
    "# i want to upper case the names inside this list\n",
    "\n",
    "#normal method\n",
    "uper_names = []\n",
    "for name in names:\n",
    "    uper_names.append(name.upper())\n",
    "print(uper_names)\n",
    "\n",
    "#using map-\n",
    "upper_names = list(map(lambda name: name.upper(), names))\n",
    "print(upper_names)"
   ]
  },
  {
   "cell_type": "markdown",
   "id": "6e4b75c6",
   "metadata": {},
   "source": [
    "FILTER is a similar function used when we want only those items which stasify a certain condition. Like a selection function\n",
    "filter() takes\n",
    "1. a function which returns true or false\n",
    "2. an iterable\n",
    "Returns a new FILTERED LIST"
   ]
  },
  {
   "cell_type": "code",
   "execution_count": 5,
   "id": "691f8ef8",
   "metadata": {},
   "outputs": [
    {
     "name": "stdout",
     "output_type": "stream",
     "text": [
      "['krishna', 'kunika', 'krish', 'kritika']\n",
      "['krishna', 'kunika', 'krish', 'kritika']\n"
     ]
    }
   ],
   "source": [
    "li = [\"krishna\", \"tammana\", \"kunika\", \"tanmay\", \"krish\", \"kritika\", \"monica\"]\n",
    "# from this list i want names which starts with letter 'k'ArithmeticError\n",
    "\n",
    "#normal method\n",
    "names_start_with_k =[]\n",
    "for name in li:\n",
    "    if name.startswith('k'):\n",
    "        names_start_with_k.append(name)\n",
    "print(names_start_with_k)\n",
    "\n",
    "#using filter\n",
    "\n",
    "start_with_k = list(filter(lambda name:name.startswith('k'), li))\n",
    "print(start_with_k)"
   ]
  },
  {
   "cell_type": "markdown",
   "id": "8be03dd8",
   "metadata": {},
   "source": [
    "REDUCE is used when we want to combine all elements of a list into a single value like(sum, product).\n",
    "reduce() takes\n",
    "1. a function that take two value(eg add them)\n",
    "2. A list\n",
    "-> it keeps applying the function on whole list!\n",
    "Returns a single value!\n",
    "\n",
    "Reduce function is deprecated function so we have to import it from functools"
   ]
  },
  {
   "cell_type": "code",
   "execution_count": 8,
   "id": "bed52c83",
   "metadata": {},
   "outputs": [
    {
     "name": "stdout",
     "output_type": "stream",
     "text": [
      "9304\n",
      "9304\n"
     ]
    }
   ],
   "source": [
    "roll_nums = [1812, 1950, 1882, 1820, 1840]\n",
    "# now i want a sum of all roll numbers inside this list\n",
    "\n",
    "#normal manner\n",
    "sum = 0\n",
    "for n in roll_nums:\n",
    "    sum+=n\n",
    "print(sum)\n",
    "\n",
    "#using reduce\n",
    "\n",
    "from functools import reduce\n",
    "\n",
    "total = reduce(lambda a,b: a+b, roll_nums)\n",
    "print(total)"
   ]
  },
  {
   "cell_type": "code",
   "execution_count": null,
   "id": "4278300a",
   "metadata": {},
   "outputs": [
    {
     "data": {
      "text/plain": [
       "<filter at 0x2f1ee85ee00>"
      ]
     },
     "execution_count": 10,
     "metadata": {},
     "output_type": "execute_result"
    }
   ],
   "source": [
    "# getting rid of null values\n",
    "\n",
    "listttt = [1,3,\"\", \"krishna\",0,3]\n",
    "filter(None, listttt)"
   ]
  },
  {
   "cell_type": "code",
   "execution_count": 12,
   "id": "bd2cf5cc",
   "metadata": {},
   "outputs": [
    {
     "data": {
      "text/plain": [
       "[1, 3, 'krishna', 3]"
      ]
     },
     "execution_count": 12,
     "metadata": {},
     "output_type": "execute_result"
    }
   ],
   "source": [
    "list(filter(None, listttt))"
   ]
  },
  {
   "cell_type": "code",
   "execution_count": null,
   "id": "a730fcb5",
   "metadata": {},
   "outputs": [],
   "source": []
  }
 ],
 "metadata": {
  "kernelspec": {
   "display_name": "Python 3",
   "language": "python",
   "name": "python3"
  },
  "language_info": {
   "codemirror_mode": {
    "name": "ipython",
    "version": 3
   },
   "file_extension": ".py",
   "mimetype": "text/x-python",
   "name": "python",
   "nbconvert_exporter": "python",
   "pygments_lexer": "ipython3",
   "version": "3.11.9"
  }
 },
 "nbformat": 4,
 "nbformat_minor": 5
}
