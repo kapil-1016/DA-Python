{
 "cells": [
  {
   "cell_type": "code",
   "execution_count": 3,
   "id": "f07438a0",
   "metadata": {},
   "outputs": [
    {
     "name": "stdout",
     "output_type": "stream",
     "text": [
      "['Hi, this is krishna kapil.\\n', 'I am second line\\n', 'I have keen interest in powerlifting.\\n', 'Twinkle Twinkle little star\\n', 'How i wonder, What you are.\\n']\n",
      "<class 'list'>\n"
     ]
    }
   ],
   "source": [
    "f = open(\"file.txt\")\n",
    "lines = f.readlines()\n",
    "print(lines)\n",
    "print(type(lines))\n",
    "f.close()"
   ]
  },
  {
   "cell_type": "code",
   "execution_count": 4,
   "id": "5b9b65a9",
   "metadata": {},
   "outputs": [
    {
     "name": "stdout",
     "output_type": "stream",
     "text": [
      "Hi, this is krishna kapil.\n",
      "\n",
      "<class 'str'>\n"
     ]
    }
   ],
   "source": [
    "f = open(\"file.txt\")\n",
    "line1 = f.readline()\n",
    "print(line1)\n",
    "print(type(line1))\n",
    "f.close()"
   ]
  },
  {
   "cell_type": "code",
   "execution_count": 5,
   "id": "19b919d8",
   "metadata": {},
   "outputs": [
    {
     "name": "stdout",
     "output_type": "stream",
     "text": [
      "Hi, this is krishna kapil.\n",
      "\n",
      "I am second line\n",
      "\n",
      "I have keen interest in powerlifting.\n",
      "\n",
      "Twinkle Twinkle little star\n",
      "\n",
      "How i wonder, What you are.\n",
      "\n"
     ]
    }
   ],
   "source": [
    "f = open(\"file.txt\")\n",
    "line = f.readline()\n",
    "while(line != \"\"):\n",
    "    print(line)\n",
    "    line = f.readline()\n",
    "f.close()"
   ]
  },
  {
   "cell_type": "code",
   "execution_count": null,
   "id": "7be25f8b",
   "metadata": {},
   "outputs": [],
   "source": []
  }
 ],
 "metadata": {
  "kernelspec": {
   "display_name": "Python 3",
   "language": "python",
   "name": "python3"
  },
  "language_info": {
   "codemirror_mode": {
    "name": "ipython",
    "version": 3
   },
   "file_extension": ".py",
   "mimetype": "text/x-python",
   "name": "python",
   "nbconvert_exporter": "python",
   "pygments_lexer": "ipython3",
   "version": "3.11.9"
  }
 },
 "nbformat": 4,
 "nbformat_minor": 5
}
