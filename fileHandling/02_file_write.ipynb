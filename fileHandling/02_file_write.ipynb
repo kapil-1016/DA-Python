{
 "cells": [
  {
   "cell_type": "code",
   "execution_count": 1,
   "id": "74bb9508",
   "metadata": {},
   "outputs": [],
   "source": [
    "st = \"Haryana punjab himachal, chitkara university punjab university, oracle google amazon meta\""
   ]
  },
  {
   "cell_type": "code",
   "execution_count": 3,
   "id": "63fb6735",
   "metadata": {},
   "outputs": [],
   "source": [
    "f = open(\"newfile2.\",\"w\")\n",
    "f.write(st)\n",
    "f.close()"
   ]
  },
  {
   "cell_type": "code",
   "execution_count": null,
   "id": "619659c3",
   "metadata": {},
   "outputs": [],
   "source": []
  }
 ],
 "metadata": {
  "kernelspec": {
   "display_name": "Python 3",
   "language": "python",
   "name": "python3"
  },
  "language_info": {
   "codemirror_mode": {
    "name": "ipython",
    "version": 3
   },
   "file_extension": ".py",
   "mimetype": "text/x-python",
   "name": "python",
   "nbconvert_exporter": "python",
   "pygments_lexer": "ipython3",
   "version": "3.11.9"
  }
 },
 "nbformat": 4,
 "nbformat_minor": 5
}
