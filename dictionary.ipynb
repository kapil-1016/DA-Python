{
 "cells": [
  {
   "cell_type": "markdown",
   "id": "1ee7aa18",
   "metadata": {},
   "source": [
    "Dictonaries are unordered.\n",
    "Stores data in key-value pair.\n",
    "key should not be mutable and value can be any d-type."
   ]
  },
  {
   "cell_type": "code",
   "execution_count": null,
   "id": "4dde58d1",
   "metadata": {},
   "outputs": [
    {
     "name": "stdout",
     "output_type": "stream",
     "text": [
      "INR\n"
     ]
    }
   ],
   "source": [
    "d1 = {\"INDIA\":\"INR\", \"USA\":\"USD\", \"CANADA\":\"CND\"}\n",
    "print(d1[\"India\"])"
   ]
  },
  {
   "cell_type": "code",
   "execution_count": null,
   "id": "88b7b844",
   "metadata": {},
   "outputs": [],
   "source": []
  }
 ],
 "metadata": {
  "kernelspec": {
   "display_name": "Python 3",
   "language": "python",
   "name": "python3"
  },
  "language_info": {
   "codemirror_mode": {
    "name": "ipython",
    "version": 3
   },
   "file_extension": ".py",
   "mimetype": "text/x-python",
   "name": "python",
   "nbconvert_exporter": "python",
   "pygments_lexer": "ipython3",
   "version": "3.11.9"
  }
 },
 "nbformat": 4,
 "nbformat_minor": 5
}
