{
 "cells": [
  {
   "cell_type": "markdown",
   "id": "1ee7aa18",
   "metadata": {},
   "source": [
    "Dictonaries are unordered.\n",
    "Stores data in key-value pair.\n",
    "key should not be mutable and value can be any d-type."
   ]
  },
  {
   "cell_type": "code",
   "execution_count": null,
   "id": "4dde58d1",
   "metadata": {},
   "outputs": [
    {
     "name": "stdout",
     "output_type": "stream",
     "text": [
      "INR\n"
     ]
    }
   ],
   "source": [
    "d1 = {\"INDIA\":\"INR\", \"USA\":\"USD\", \"CANADA\":\"CND\"}\n",
    "print(d1[\"India\"])"
   ]
  },
  {
   "cell_type": "code",
   "execution_count": 4,
   "id": "88b7b844",
   "metadata": {},
   "outputs": [
    {
     "data": {
      "text/plain": [
       "3"
      ]
     },
     "execution_count": 4,
     "metadata": {},
     "output_type": "execute_result"
    }
   ],
   "source": [
    "len(d1)"
   ]
  },
  {
   "cell_type": "code",
   "execution_count": 5,
   "id": "4da46f79",
   "metadata": {},
   "outputs": [],
   "source": [
    "d1[\"CANADA\"] = \"cnd\";"
   ]
  },
  {
   "cell_type": "code",
   "execution_count": 6,
   "id": "71a688d6",
   "metadata": {},
   "outputs": [
    {
     "data": {
      "text/plain": [
       "{'India': 'INR', 'USA': 'USD', 'CANADA': 'cnd'}"
      ]
     },
     "execution_count": 6,
     "metadata": {},
     "output_type": "execute_result"
    }
   ],
   "source": [
    "d1"
   ]
  },
  {
   "cell_type": "code",
   "execution_count": null,
   "id": "7c7850bb",
   "metadata": {},
   "outputs": [],
   "source": [
    "d1[\"JAPAN\"] = \"YEN\" # adding one more key-value pair in existing dict."
   ]
  },
  {
   "cell_type": "code",
   "execution_count": 8,
   "id": "7683412f",
   "metadata": {},
   "outputs": [
    {
     "name": "stdout",
     "output_type": "stream",
     "text": [
      "{'India': 'INR', 'USA': 'USD', 'CANADA': 'cnd', 'JAPAN': 'YEN'}\n"
     ]
    }
   ],
   "source": [
    "print(d1)"
   ]
  },
  {
   "cell_type": "code",
   "execution_count": 9,
   "id": "bd4b14d5",
   "metadata": {},
   "outputs": [
    {
     "name": "stdout",
     "output_type": "stream",
     "text": [
      "4\n"
     ]
    }
   ],
   "source": [
    "print(len(d1))"
   ]
  },
  {
   "cell_type": "code",
   "execution_count": 10,
   "id": "b24b51b6",
   "metadata": {},
   "outputs": [],
   "source": [
    "#deleting key value pair\n",
    "del d1[\"USA\"]"
   ]
  },
  {
   "cell_type": "code",
   "execution_count": 11,
   "id": "128bc354",
   "metadata": {},
   "outputs": [
    {
     "name": "stdout",
     "output_type": "stream",
     "text": [
      "{'India': 'INR', 'CANADA': 'cnd', 'JAPAN': 'YEN'}\n"
     ]
    }
   ],
   "source": [
    "print(d1)"
   ]
  },
  {
   "cell_type": "code",
   "execution_count": 12,
   "id": "8a50a9d5",
   "metadata": {},
   "outputs": [
    {
     "data": {
      "text/plain": [
       "['CANADA', 'India', 'JAPAN']"
      ]
     },
     "execution_count": 12,
     "metadata": {},
     "output_type": "execute_result"
    }
   ],
   "source": [
    "sorted(d1)"
   ]
  },
  {
   "cell_type": "code",
   "execution_count": 13,
   "id": "695bcbf1",
   "metadata": {},
   "outputs": [
    {
     "data": {
      "text/plain": [
       "{'India': 'INR', 'CANADA': 'cnd', 'JAPAN': 'YEN'}"
      ]
     },
     "execution_count": 13,
     "metadata": {},
     "output_type": "execute_result"
    }
   ],
   "source": [
    "d1"
   ]
  },
  {
   "cell_type": "code",
   "execution_count": 14,
   "id": "788d3057",
   "metadata": {},
   "outputs": [
    {
     "name": "stdout",
     "output_type": "stream",
     "text": [
      "['CANADA', 'India', 'JAPAN']\n"
     ]
    }
   ],
   "source": [
    "print(sorted(d1))"
   ]
  },
  {
   "cell_type": "code",
   "execution_count": 15,
   "id": "470d2a9c",
   "metadata": {},
   "outputs": [
    {
     "ename": "KeyError",
     "evalue": "'Germany'",
     "output_type": "error",
     "traceback": [
      "\u001b[31m---------------------------------------------------------------------------\u001b[39m",
      "\u001b[31mKeyError\u001b[39m                                  Traceback (most recent call last)",
      "\u001b[36mCell\u001b[39m\u001b[36m \u001b[39m\u001b[32mIn[15]\u001b[39m\u001b[32m, line 1\u001b[39m\n\u001b[32m----> \u001b[39m\u001b[32m1\u001b[39m \u001b[43md1\u001b[49m\u001b[43m[\u001b[49m\u001b[33;43m\"\u001b[39;49m\u001b[33;43mGermany\u001b[39;49m\u001b[33;43m\"\u001b[39;49m\u001b[43m]\u001b[49m\n",
      "\u001b[31mKeyError\u001b[39m: 'Germany'"
     ]
    }
   ],
   "source": [
    "d1[\"Germany\"]"
   ]
  },
  {
   "cell_type": "code",
   "execution_count": 16,
   "id": "f475575c",
   "metadata": {},
   "outputs": [
    {
     "data": {
      "text/plain": [
       "dict_values(['INR', 'cnd', 'YEN'])"
      ]
     },
     "execution_count": 16,
     "metadata": {},
     "output_type": "execute_result"
    }
   ],
   "source": [
    "d1.values()"
   ]
  },
  {
   "cell_type": "code",
   "execution_count": 17,
   "id": "f8f72ede",
   "metadata": {},
   "outputs": [
    {
     "data": {
      "text/plain": [
       "dict_keys(['India', 'CANADA', 'JAPAN'])"
      ]
     },
     "execution_count": 17,
     "metadata": {},
     "output_type": "execute_result"
    }
   ],
   "source": [
    "d1.keys()"
   ]
  },
  {
   "cell_type": "code",
   "execution_count": 18,
   "id": "4ebd5e7c",
   "metadata": {},
   "outputs": [
    {
     "data": {
      "text/plain": [
       "'YEN'"
      ]
     },
     "execution_count": 18,
     "metadata": {},
     "output_type": "execute_result"
    }
   ],
   "source": [
    "d1.get('JAPAN')"
   ]
  },
  {
   "cell_type": "code",
   "execution_count": 19,
   "id": "48a22eea",
   "metadata": {},
   "outputs": [],
   "source": [
    "d1.update({\"India\":\"Rs\"})"
   ]
  },
  {
   "cell_type": "code",
   "execution_count": 20,
   "id": "435ebe84",
   "metadata": {},
   "outputs": [
    {
     "data": {
      "text/plain": [
       "{'India': 'Rs', 'CANADA': 'cnd', 'JAPAN': 'YEN'}"
      ]
     },
     "execution_count": 20,
     "metadata": {},
     "output_type": "execute_result"
    }
   ],
   "source": [
    "d1"
   ]
  },
  {
   "cell_type": "code",
   "execution_count": 21,
   "id": "a15da0c2",
   "metadata": {},
   "outputs": [],
   "source": [
    "Employee_data = {101:['Shiva', 24, 'Content Strategist'], 102:['Udit', 28, 'Sr Manager'], 103:['Sonam', 28, 'Sr Manager'], 104:['Ansari', 29,'Product Lead'], 105:['Huzefa',19, 'Junior Tester']}"
   ]
  },
  {
   "cell_type": "code",
   "execution_count": 22,
   "id": "8df14f7b",
   "metadata": {},
   "outputs": [
    {
     "data": {
      "text/plain": [
       "5"
      ]
     },
     "execution_count": 22,
     "metadata": {},
     "output_type": "execute_result"
    }
   ],
   "source": [
    "len(Employee_data)"
   ]
  },
  {
   "cell_type": "code",
   "execution_count": 23,
   "id": "03719188",
   "metadata": {},
   "outputs": [
    {
     "data": {
      "text/plain": [
       "dict"
      ]
     },
     "execution_count": 23,
     "metadata": {},
     "output_type": "execute_result"
    }
   ],
   "source": [
    "type(Employee_data)"
   ]
  },
  {
   "cell_type": "code",
   "execution_count": 24,
   "id": "22da0baa",
   "metadata": {},
   "outputs": [
    {
     "data": {
      "text/plain": [
       "{101: ['Shiva', 24, 'Content Strategist'],\n",
       " 102: ['Udit', 28, 'Sr Manager'],\n",
       " 103: ['Sonam', 28, 'Sr Manager'],\n",
       " 104: ['Ansari', 29, 'Product Lead'],\n",
       " 105: ['Huzefa', 19, 'Junior Tester']}"
      ]
     },
     "execution_count": 24,
     "metadata": {},
     "output_type": "execute_result"
    }
   ],
   "source": [
    "Employee_data"
   ]
  },
  {
   "cell_type": "code",
   "execution_count": null,
   "id": "8702774b",
   "metadata": {},
   "outputs": [],
   "source": []
  }
 ],
 "metadata": {
  "kernelspec": {
   "display_name": "Python 3",
   "language": "python",
   "name": "python3"
  },
  "language_info": {
   "codemirror_mode": {
    "name": "ipython",
    "version": 3
   },
   "file_extension": ".py",
   "mimetype": "text/x-python",
   "name": "python",
   "nbconvert_exporter": "python",
   "pygments_lexer": "ipython3",
   "version": "3.11.9"
  }
 },
 "nbformat": 4,
 "nbformat_minor": 5
}
