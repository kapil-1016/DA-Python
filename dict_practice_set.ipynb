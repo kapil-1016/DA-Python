{
 "cells": [
  {
   "cell_type": "markdown",
   "id": "fe3ff5f1",
   "metadata": {},
   "source": [
    "Write a program to create a dictionary of Hindi words with values as their English\n",
    "translation. Provide user with an option to look it up!"
   ]
  },
  {
   "cell_type": "code",
   "execution_count": 3,
   "id": "9e201271",
   "metadata": {},
   "outputs": [
    {
     "name": "stdout",
     "output_type": "stream",
     "text": [
      "bedsheet\n"
     ]
    }
   ],
   "source": [
    "dict = {\n",
    "    \"kursi\": \"chair\",\n",
    "    \"darwaza\":\"door\",\n",
    "    \"kalam\":\"pen\",\n",
    "    \"chaadar\":\"bedsheet\",\n",
    "    \"kambal\":\"blanket\"\n",
    "}\n",
    "word = input(\"Enter a word to get English Meaning: \")\n",
    "print(dict[word])"
   ]
  },
  {
   "cell_type": "markdown",
   "id": "810e4203",
   "metadata": {},
   "source": [
    " Can we have a set with 18 (int) and '18' (str) as a value in it?\n"
   ]
  },
  {
   "cell_type": "code",
   "execution_count": 5,
   "id": "c933649c",
   "metadata": {},
   "outputs": [
    {
     "name": "stdout",
     "output_type": "stream",
     "text": [
      "<class 'set'>\n",
      "{18, '18'}\n"
     ]
    }
   ],
   "source": [
    "s = {18}\n",
    "print(type(s))\n",
    "s.add('18')\n",
    "print(s)"
   ]
  },
  {
   "cell_type": "code",
   "execution_count": 9,
   "id": "2cbdcef0",
   "metadata": {},
   "outputs": [
    {
     "name": "stdout",
     "output_type": "stream",
     "text": [
      "2\n",
      "{'22', 22}\n"
     ]
    }
   ],
   "source": [
    "set2 = set()\n",
    "set2.add(22)\n",
    "set2.add(22.0)\n",
    "set2.add('22')\n",
    "print(len(set2)) #here, 22.0 equals to 22 values are compared and they are same.\n",
    "print(set2)"
   ]
  },
  {
   "cell_type": "code",
   "execution_count": null,
   "id": "b81b404c",
   "metadata": {},
   "outputs": [],
   "source": [
    "# can we change a value in a list which is inside a set?\n",
    "# no its not possible, firstly list is not hashable means can not be inside a set\n",
    "# secondly, set do not have indeces."
   ]
  },
  {
   "cell_type": "code",
   "execution_count": 13,
   "id": "0d5e3496",
   "metadata": {},
   "outputs": [
    {
     "data": {
      "text/plain": [
       "dict"
      ]
     },
     "execution_count": 13,
     "metadata": {},
     "output_type": "execute_result"
    }
   ],
   "source": [
    "s = {}\n",
    "type(s)"
   ]
  },
  {
   "cell_type": "code",
   "execution_count": 14,
   "id": "d3f7388b",
   "metadata": {},
   "outputs": [
    {
     "name": "stdout",
     "output_type": "stream",
     "text": [
      "<class 'set'>\n"
     ]
    }
   ],
   "source": [
    "s= {1,2}\n",
    "print(type(s))"
   ]
  },
  {
   "cell_type": "code",
   "execution_count": 15,
   "id": "1a89f291",
   "metadata": {},
   "outputs": [
    {
     "ename": "TypeError",
     "evalue": "unhashable type: 'list'",
     "output_type": "error",
     "traceback": [
      "\u001b[31m---------------------------------------------------------------------------\u001b[39m",
      "\u001b[31mTypeError\u001b[39m                                 Traceback (most recent call last)",
      "\u001b[36mCell\u001b[39m\u001b[36m \u001b[39m\u001b[32mIn[15]\u001b[39m\u001b[32m, line 1\u001b[39m\n\u001b[32m----> \u001b[39m\u001b[32m1\u001b[39m sett = {\u001b[32m1\u001b[39m,\u001b[32m2\u001b[39m,\u001b[33m\"\u001b[39m\u001b[33mkrishna\u001b[39m\u001b[33m\"\u001b[39m,[\u001b[32m2\u001b[39m,\u001b[32m3\u001b[39m]}\n",
      "\u001b[31mTypeError\u001b[39m: unhashable type: 'list'"
     ]
    }
   ],
   "source": [
    "sett = {1,2,\"krishna\",[2,3]}"
   ]
  },
  {
   "cell_type": "code",
   "execution_count": null,
   "id": "6559c000",
   "metadata": {},
   "outputs": [],
   "source": []
  }
 ],
 "metadata": {
  "kernelspec": {
   "display_name": "Python 3",
   "language": "python",
   "name": "python3"
  },
  "language_info": {
   "codemirror_mode": {
    "name": "ipython",
    "version": 3
   },
   "file_extension": ".py",
   "mimetype": "text/x-python",
   "name": "python",
   "nbconvert_exporter": "python",
   "pygments_lexer": "ipython3",
   "version": "3.11.9"
  }
 },
 "nbformat": 4,
 "nbformat_minor": 5
}
