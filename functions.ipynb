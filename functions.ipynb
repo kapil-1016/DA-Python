{
 "cells": [
  {
   "cell_type": "markdown",
   "id": "20275e9b",
   "metadata": {},
   "source": [
    "Functions are named sequence of statements that perform some operations.\n",
    "-> Inbuilt Functions\n",
    "-> User Defined Functions"
   ]
  },
  {
   "cell_type": "markdown",
   "id": "04383c21",
   "metadata": {},
   "source": [
    "LAMDA FUNCTIONS: Theese are small anonymous functions to make developer's life easier.\n",
    "                Can multiple number of arguments, but only one expression.(syntax: lamda arguments: expression)"
   ]
  },
  {
   "cell_type": "code",
   "execution_count": 1,
   "id": "0925a249",
   "metadata": {},
   "outputs": [
    {
     "name": "stdout",
     "output_type": "stream",
     "text": [
      "7\n"
     ]
    }
   ],
   "source": [
    "#lamda function instance\n",
    "add = lambda x,y: x+y\n",
    "print(add(2,5))"
   ]
  },
  {
   "cell_type": "code",
   "execution_count": 8,
   "id": "e3b531cc",
   "metadata": {},
   "outputs": [
    {
     "name": "stdout",
     "output_type": "stream",
     "text": [
      "11  is odd\n"
     ]
    }
   ],
   "source": [
    "# even-odd\n",
    "x = input(\"Enter your number: \")\n",
    "def even_or_odd(num): #this is function defination\n",
    "    if(num%2==0):\n",
    "        print(num,\" is even\")\n",
    "    else:\n",
    "        print(num, \" is odd\")\n",
    "\n",
    "even_or_odd(int(x)) #this is function calling with a parameter"
   ]
  },
  {
   "cell_type": "code",
   "execution_count": 11,
   "id": "32ac061c",
   "metadata": {},
   "outputs": [
    {
     "data": {
      "text/plain": [
       "24"
      ]
     },
     "execution_count": 11,
     "metadata": {},
     "output_type": "execute_result"
    }
   ],
   "source": [
    "# factorial\n",
    "def fact(num):\n",
    "    fact = 1\n",
    "    for i in range(1, num+1):\n",
    "        fact *= i\n",
    "    return fact\n",
    "fact(4)\n"
   ]
  },
  {
   "cell_type": "code",
   "execution_count": 12,
   "id": "52344f95",
   "metadata": {},
   "outputs": [
    {
     "data": {
      "text/plain": [
       "120"
      ]
     },
     "execution_count": 12,
     "metadata": {},
     "output_type": "execute_result"
    }
   ],
   "source": [
    "fact(5)"
   ]
  },
  {
   "cell_type": "code",
   "execution_count": 13,
   "id": "7a43d82b",
   "metadata": {},
   "outputs": [],
   "source": [
    "# lambda function to determin a num is odd or even\n",
    "x = lambda a : \"This is even number\" if a%2==0 else \"This is odd number\""
   ]
  },
  {
   "cell_type": "code",
   "execution_count": 14,
   "id": "1f5eb3cc",
   "metadata": {},
   "outputs": [
    {
     "name": "stdout",
     "output_type": "stream",
     "text": [
      "This is odd number\n"
     ]
    }
   ],
   "source": [
    "print(x(101))"
   ]
  },
  {
   "cell_type": "code",
   "execution_count": 15,
   "id": "8a017d69",
   "metadata": {},
   "outputs": [
    {
     "name": "stdout",
     "output_type": "stream",
     "text": [
      "This is even number\n"
     ]
    }
   ],
   "source": [
    "print(x(190))"
   ]
  },
  {
   "cell_type": "code",
   "execution_count": null,
   "id": "696f017a",
   "metadata": {},
   "outputs": [],
   "source": []
  }
 ],
 "metadata": {
  "kernelspec": {
   "display_name": "Python 3",
   "language": "python",
   "name": "python3"
  },
  "language_info": {
   "codemirror_mode": {
    "name": "ipython",
    "version": 3
   },
   "file_extension": ".py",
   "mimetype": "text/x-python",
   "name": "python",
   "nbconvert_exporter": "python",
   "pygments_lexer": "ipython3",
   "version": "3.11.9"
  }
 },
 "nbformat": 4,
 "nbformat_minor": 5
}
